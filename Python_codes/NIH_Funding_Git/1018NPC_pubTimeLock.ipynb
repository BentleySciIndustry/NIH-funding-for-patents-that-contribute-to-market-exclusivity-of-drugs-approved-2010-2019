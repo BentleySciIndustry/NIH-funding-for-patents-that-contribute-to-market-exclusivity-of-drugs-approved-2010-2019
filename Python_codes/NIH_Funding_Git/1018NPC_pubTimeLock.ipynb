{
 "cells": [
  {
   "cell_type": "code",
   "execution_count": 15,
   "metadata": {},
   "outputs": [],
   "source": [
    "#pip install biopython\n",
    "#pip install beautifulsoup4\n",
    "import pandas as pd\n",
    "from pandas import DataFrame\n",
    "from Bio import Entrez\n",
    "import time\n",
    "from Bio.Entrez import efetch\n",
    "from bs4 import BeautifulSoup\n",
    "import csv   \n",
    "import os"
   ]
  },
  {
   "cell_type": "code",
   "execution_count": 16,
   "metadata": {},
   "outputs": [],
   "source": [
    "####### 10/14/21 last update by ED ###################"
   ]
  },
  {
   "cell_type": "code",
   "execution_count": 17,
   "metadata": {},
   "outputs": [],
   "source": [
    "############### Get PMID from search Terms ###############\n",
    "def pub_key_entz_target(search_term):\n",
    "    Entrez.email = \"ezhou@bentley.edu\"     \n",
    "    handle = Entrez.esearch(db=\"pubmed\", term=search_term, retmax=\"1500000\")\n",
    "    record = Entrez.read(handle)\n",
    "    entz=record[\"IdList\"]\n",
    "    search_output = DataFrame(entz,columns=['PMID'])\n",
    "    search_output['search_term']=search_term\n",
    "    search_output['search_type']='drug'\n",
    "    search_output.to_csv('output.csv',mode='a',index=None,header=False) "
   ]
  },
  {
   "cell_type": "code",
   "execution_count": 18,
   "metadata": {},
   "outputs": [],
   "source": [
    "################ CSV input gen  #############################\n",
    "inputkey='Clinical Trial [pt]'\n",
    "\n",
    "mod=pd.read_csv('0_Full_inputDrugOnly_Fromat.csv')\n",
    "#mod=pd.read_csv('Full_input_drug_only.csv')\n",
    "\n",
    "mod['A']=\"((\"\n",
    "mod['C']=\")\"\n",
    "mod['D']=\" AND (\"+inputkey+\") AND (human [MeSH Terms])) NOT (Review [pt])\"\n",
    "mod['E']=\" AND (1980:2020 [pdat])\"\n",
    "#mod['D']=\" AND (\"+inputkey+\")) NOT (Review [pt])\"\n",
    "mod['search_term']=mod['A']+mod['Input']+mod['C']+mod['D']+mod['E']\n",
    "\n",
    "mod_fix=mod[['search_term','Input']]\n",
    "#mod_fix=mod[['search_term']]\n",
    "mod_fix.to_csv('B_'+inputkey+'.csv',index=None)\n",
    "Term_list='B_'+inputkey+'.csv'"
   ]
  },
  {
   "cell_type": "code",
   "execution_count": 5,
   "metadata": {},
   "outputs": [],
   "source": [
    "################ Drug Gen  #############################\n",
    "inputkey='Target'\n",
    "\n",
    "mod=pd.read_csv('0_Full_inputTargetOnly_Fromat.csv')\n",
    "\n",
    "mod['A']=\"(\"\n",
    "mod['C']=\")\"\n",
    "mod['D']=\" AND (1980:2020 [pdat])\"\n",
    "mod['search_term']=mod['A']+mod['Input']+mod['C']+mod['D']\n",
    "\n",
    "mod_fix=mod[['search_term','Input']]\n",
    "mod_fix.to_csv('B_'+inputkey+'.csv',index=None)\n",
    "Term_list='B_'+inputkey+'.csv'"
   ]
  },
  {
   "cell_type": "code",
   "execution_count": 6,
   "metadata": {},
   "outputs": [],
   "source": [
    "################  Target Gen  #############################\n",
    "#inputkey='Target'\n",
    "\n",
    "#mod=pd.read_csv('0_Full_inputTargetOnly_Fromat.csv')\n",
    "\n",
    "#mod['A']=\"(\"\n",
    "#mod['C']=\")\"\n",
    "#mod['search_term']=mod['A']+mod['Input']+mod['C']\n",
    "\n",
    "#mod_fix=mod[['search_term','Input']]\n",
    "#mod_fix.to_csv('B_'+inputkey+'.csv',index=None)\n",
    "#Term_list='B_'+inputkey+'.csv'"
   ]
  },
  {
   "cell_type": "code",
   "execution_count": 7,
   "metadata": {},
   "outputs": [],
   "source": [
    "################### input target list csv ##############################"
   ]
  },
  {
   "cell_type": "code",
   "execution_count": 19,
   "metadata": {},
   "outputs": [],
   "source": [
    "target_list=pd.read_csv(Term_list)"
   ]
  },
  {
   "cell_type": "code",
   "execution_count": 20,
   "metadata": {},
   "outputs": [],
   "source": [
    "################### input target list #############################\n",
    "for search_term in target_list.search_term:\n",
    "    pub_key_entz_target(search_term)"
   ]
  },
  {
   "cell_type": "code",
   "execution_count": 21,
   "metadata": {},
   "outputs": [],
   "source": [
    "Name_set=pd.read_csv('B_'+inputkey+'.csv')"
   ]
  },
  {
   "cell_type": "code",
   "execution_count": 22,
   "metadata": {},
   "outputs": [],
   "source": [
    "headerList = ['PMID','search_term','search_type']\n",
    "w0=pd.read_csv('output.csv',header=None)\n",
    "w0=w0.drop_duplicates()\n",
    "w0.to_csv('P_'+Term_list, header=headerList, index=False)\n",
    "os.remove('output.csv')"
   ]
  },
  {
   "cell_type": "code",
   "execution_count": 23,
   "metadata": {},
   "outputs": [],
   "source": [
    "#########################    UQ count  ###################################"
   ]
  },
  {
   "cell_type": "code",
   "execution_count": 24,
   "metadata": {},
   "outputs": [
    {
     "data": {
      "text/plain": [
       "24838"
      ]
     },
     "execution_count": 24,
     "metadata": {},
     "output_type": "execute_result"
    }
   ],
   "source": [
    "w0=pd.read_csv('P_'+Term_list)\n",
    "w0['PMID'].nunique()"
   ]
  },
  {
   "cell_type": "code",
   "execution_count": 25,
   "metadata": {},
   "outputs": [
    {
     "data": {
      "text/plain": [
       "24838"
      ]
     },
     "execution_count": 25,
     "metadata": {},
     "output_type": "execute_result"
    }
   ],
   "source": [
    "w0=pd.read_csv('P_'+Term_list)\n",
    "w0['PMID'].nunique()"
   ]
  },
  {
   "cell_type": "code",
   "execution_count": null,
   "metadata": {},
   "outputs": [],
   "source": []
  },
  {
   "cell_type": "code",
   "execution_count": null,
   "metadata": {},
   "outputs": [],
   "source": []
  },
  {
   "cell_type": "code",
   "execution_count": null,
   "metadata": {},
   "outputs": [],
   "source": []
  },
  {
   "cell_type": "code",
   "execution_count": null,
   "metadata": {},
   "outputs": [],
   "source": []
  },
  {
   "cell_type": "code",
   "execution_count": null,
   "metadata": {},
   "outputs": [],
   "source": []
  },
  {
   "cell_type": "code",
   "execution_count": null,
   "metadata": {},
   "outputs": [],
   "source": []
  },
  {
   "cell_type": "code",
   "execution_count": null,
   "metadata": {},
   "outputs": [],
   "source": []
  },
  {
   "cell_type": "code",
   "execution_count": null,
   "metadata": {},
   "outputs": [],
   "source": []
  },
  {
   "cell_type": "code",
   "execution_count": null,
   "metadata": {},
   "outputs": [],
   "source": []
  },
  {
   "cell_type": "code",
   "execution_count": null,
   "metadata": {},
   "outputs": [],
   "source": []
  },
  {
   "cell_type": "code",
   "execution_count": null,
   "metadata": {},
   "outputs": [],
   "source": []
  }
 ],
 "metadata": {
  "kernelspec": {
   "display_name": "Python 3 (ipykernel)",
   "language": "python",
   "name": "python3"
  },
  "language_info": {
   "codemirror_mode": {
    "name": "ipython",
    "version": 3
   },
   "file_extension": ".py",
   "mimetype": "text/x-python",
   "name": "python",
   "nbconvert_exporter": "python",
   "pygments_lexer": "ipython3",
   "version": "3.9.7"
  }
 },
 "nbformat": 4,
 "nbformat_minor": 4
}
